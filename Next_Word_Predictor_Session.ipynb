{
  "nbformat": 4,
  "nbformat_minor": 0,
  "metadata": {
    "colab": {
      "provenance": []
    },
    "kernelspec": {
      "name": "python3",
      "display_name": "Python 3"
    },
    "language_info": {
      "name": "python"
    }
  },
  "cells": [
    {
      "cell_type": "markdown",
      "source": [
        "**Importing all the necessary libraries required for the use case**\n",
        "\n"
      ],
      "metadata": {
        "id": "lYKgniNgNYKJ"
      }
    },
    {
      "cell_type": "code",
      "execution_count": null,
      "metadata": {
        "id": "C9qKDww6qemQ"
      },
      "outputs": [],
      "source": [
        "import numpy as np\n",
        "import heapq\n",
        "import matplotlib.pyplot as plt\n",
        "from nltk.tokenize import RegexpTokenizer\n",
        "from nltk.tokenize import word_tokenize\n",
        "from keras.models import Sequential, load_model\n",
        "from keras.layers import Dense, Activation, LSTM\n",
        "import pickle\n",
        "from tensorflow.keras.optimizers import RMSprop"
      ]
    },
    {
      "cell_type": "markdown",
      "source": [
        " **Importing the dataset and examining the unique values in the tag column.**"
      ],
      "metadata": {
        "id": "mWn-Nz2ZNwok"
      }
    },
    {
      "cell_type": "code",
      "source": [
        "# Import the data set, and get all sentences\n",
        "import pandas as pd\n",
        "\n",
        "df = pd.read_json('/content/train.json')\n",
        "print(df['tag'].unique())"
      ],
      "metadata": {
        "colab": {
          "base_uri": "https://localhost:8080/"
        },
        "id": "hod8WGwMybjF",
        "outputId": "904048e3-0c36-4860-d8bc-efe25735bca3"
      },
      "execution_count": null,
      "outputs": [
        {
          "output_type": "stream",
          "name": "stdout",
          "text": [
            "['phone call' 'meeting' 'face-to-face conversation' 'general chatting'\n",
            " 'presentation' 'training']\n"
          ]
        }
      ]
    },
    {
      "cell_type": "markdown",
      "source": [
        "**To store the resulting data**"
      ],
      "metadata": {
        "id": "Cdq-eiKbOCje"
      }
    },
    {
      "cell_type": "code",
      "source": [
        "df"
      ],
      "metadata": {
        "colab": {
          "base_uri": "https://localhost:8080/",
          "height": 527
        },
        "id": "RtXeiBk1yjSg",
        "outputId": "7fc9bf9c-1479-40bb-f846-a54a456280a1"
      },
      "execution_count": null,
      "outputs": [
        {
          "output_type": "execute_result",
          "data": {
            "text/plain": [
              "                 id                        tag  \\\n",
              "0     190329_J07_03                 phone call   \n",
              "1     190329_J06_11                    meeting   \n",
              "2     190329_J06_10                    meeting   \n",
              "3     190329_J06_09  face-to-face conversation   \n",
              "4     190329_J06_08  face-to-face conversation   \n",
              "..              ...                        ...   \n",
              "665  190315_E001_05               presentation   \n",
              "666  190315_E001_04                   training   \n",
              "667  190315_E001_03           general chatting   \n",
              "668  190315_E001_02                 phone call   \n",
              "669  190315_E001_01                    meeting   \n",
              "\n",
              "                                                 title original_language  \\\n",
              "0                                 伝言への折り返し電話　打ち合わせ日程調整                ja   \n",
              "1                                    株主総会に関する役員向け説明（２）                ja   \n",
              "2                                    株主総会に関する役員向け説明（１）                ja   \n",
              "3                                        信託銀行から株主名簿を受領                ja   \n",
              "4                                           株主総会への臨場要請                ja   \n",
              "..                                                 ...               ...   \n",
              "665                 Presentation: Company introduction                en   \n",
              "666                  Training: training a new employee                en   \n",
              "667          General chatting: Company Christmas party                en   \n",
              "668            Phone call: requesting a lunch meeting.                en   \n",
              "669  Meeting: Wrap-up meeting (after meeting a star...                en   \n",
              "\n",
              "                                          conversation  \n",
              "0    [{'no': 1, 'ja_speaker': '土井さん', 'en_speaker':...  \n",
              "1    [{'no': 1, 'ja_speaker': '高田さん', 'en_speaker':...  \n",
              "2    [{'no': 1, 'ja_speaker': '友井さん', 'en_speaker':...  \n",
              "3    [{'no': 1, 'ja_speaker': '高田さん', 'en_speaker':...  \n",
              "4    [{'no': 1, 'ja_speaker': '高田さん', 'en_speaker':...  \n",
              "..                                                 ...  \n",
              "665  [{'no': 1, 'en_speaker': 'Mr. Asano Yuki', 'ja...  \n",
              "666  [{'no': 1, 'en_speaker': 'Mr. Ben Sherman', 'j...  \n",
              "667  [{'no': 1, 'en_speaker': 'Ms. Amy Lin', 'ja_sp...  \n",
              "668  [{'no': 1, 'en_speaker': 'Mr. John Smith', 'ja...  \n",
              "669  [{'no': 1, 'en_speaker': 'Mr. Bob Cook', 'ja_s...  \n",
              "\n",
              "[670 rows x 5 columns]"
            ],
            "text/html": [
              "\n",
              "  <div id=\"df-0a0f168b-7503-46b6-a520-8aa2f6100e04\" class=\"colab-df-container\">\n",
              "    <div>\n",
              "<style scoped>\n",
              "    .dataframe tbody tr th:only-of-type {\n",
              "        vertical-align: middle;\n",
              "    }\n",
              "\n",
              "    .dataframe tbody tr th {\n",
              "        vertical-align: top;\n",
              "    }\n",
              "\n",
              "    .dataframe thead th {\n",
              "        text-align: right;\n",
              "    }\n",
              "</style>\n",
              "<table border=\"1\" class=\"dataframe\">\n",
              "  <thead>\n",
              "    <tr style=\"text-align: right;\">\n",
              "      <th></th>\n",
              "      <th>id</th>\n",
              "      <th>tag</th>\n",
              "      <th>title</th>\n",
              "      <th>original_language</th>\n",
              "      <th>conversation</th>\n",
              "    </tr>\n",
              "  </thead>\n",
              "  <tbody>\n",
              "    <tr>\n",
              "      <th>0</th>\n",
              "      <td>190329_J07_03</td>\n",
              "      <td>phone call</td>\n",
              "      <td>伝言への折り返し電話　打ち合わせ日程調整</td>\n",
              "      <td>ja</td>\n",
              "      <td>[{'no': 1, 'ja_speaker': '土井さん', 'en_speaker':...</td>\n",
              "    </tr>\n",
              "    <tr>\n",
              "      <th>1</th>\n",
              "      <td>190329_J06_11</td>\n",
              "      <td>meeting</td>\n",
              "      <td>株主総会に関する役員向け説明（２）</td>\n",
              "      <td>ja</td>\n",
              "      <td>[{'no': 1, 'ja_speaker': '高田さん', 'en_speaker':...</td>\n",
              "    </tr>\n",
              "    <tr>\n",
              "      <th>2</th>\n",
              "      <td>190329_J06_10</td>\n",
              "      <td>meeting</td>\n",
              "      <td>株主総会に関する役員向け説明（１）</td>\n",
              "      <td>ja</td>\n",
              "      <td>[{'no': 1, 'ja_speaker': '友井さん', 'en_speaker':...</td>\n",
              "    </tr>\n",
              "    <tr>\n",
              "      <th>3</th>\n",
              "      <td>190329_J06_09</td>\n",
              "      <td>face-to-face conversation</td>\n",
              "      <td>信託銀行から株主名簿を受領</td>\n",
              "      <td>ja</td>\n",
              "      <td>[{'no': 1, 'ja_speaker': '高田さん', 'en_speaker':...</td>\n",
              "    </tr>\n",
              "    <tr>\n",
              "      <th>4</th>\n",
              "      <td>190329_J06_08</td>\n",
              "      <td>face-to-face conversation</td>\n",
              "      <td>株主総会への臨場要請</td>\n",
              "      <td>ja</td>\n",
              "      <td>[{'no': 1, 'ja_speaker': '高田さん', 'en_speaker':...</td>\n",
              "    </tr>\n",
              "    <tr>\n",
              "      <th>...</th>\n",
              "      <td>...</td>\n",
              "      <td>...</td>\n",
              "      <td>...</td>\n",
              "      <td>...</td>\n",
              "      <td>...</td>\n",
              "    </tr>\n",
              "    <tr>\n",
              "      <th>665</th>\n",
              "      <td>190315_E001_05</td>\n",
              "      <td>presentation</td>\n",
              "      <td>Presentation: Company introduction</td>\n",
              "      <td>en</td>\n",
              "      <td>[{'no': 1, 'en_speaker': 'Mr. Asano Yuki', 'ja...</td>\n",
              "    </tr>\n",
              "    <tr>\n",
              "      <th>666</th>\n",
              "      <td>190315_E001_04</td>\n",
              "      <td>training</td>\n",
              "      <td>Training: training a new employee</td>\n",
              "      <td>en</td>\n",
              "      <td>[{'no': 1, 'en_speaker': 'Mr. Ben Sherman', 'j...</td>\n",
              "    </tr>\n",
              "    <tr>\n",
              "      <th>667</th>\n",
              "      <td>190315_E001_03</td>\n",
              "      <td>general chatting</td>\n",
              "      <td>General chatting: Company Christmas party</td>\n",
              "      <td>en</td>\n",
              "      <td>[{'no': 1, 'en_speaker': 'Ms. Amy Lin', 'ja_sp...</td>\n",
              "    </tr>\n",
              "    <tr>\n",
              "      <th>668</th>\n",
              "      <td>190315_E001_02</td>\n",
              "      <td>phone call</td>\n",
              "      <td>Phone call: requesting a lunch meeting.</td>\n",
              "      <td>en</td>\n",
              "      <td>[{'no': 1, 'en_speaker': 'Mr. John Smith', 'ja...</td>\n",
              "    </tr>\n",
              "    <tr>\n",
              "      <th>669</th>\n",
              "      <td>190315_E001_01</td>\n",
              "      <td>meeting</td>\n",
              "      <td>Meeting: Wrap-up meeting (after meeting a star...</td>\n",
              "      <td>en</td>\n",
              "      <td>[{'no': 1, 'en_speaker': 'Mr. Bob Cook', 'ja_s...</td>\n",
              "    </tr>\n",
              "  </tbody>\n",
              "</table>\n",
              "<p>670 rows × 5 columns</p>\n",
              "</div>\n",
              "    <div class=\"colab-df-buttons\">\n",
              "\n",
              "  <div class=\"colab-df-container\">\n",
              "    <button class=\"colab-df-convert\" onclick=\"convertToInteractive('df-0a0f168b-7503-46b6-a520-8aa2f6100e04')\"\n",
              "            title=\"Convert this dataframe to an interactive table.\"\n",
              "            style=\"display:none;\">\n",
              "\n",
              "  <svg xmlns=\"http://www.w3.org/2000/svg\" height=\"24px\" viewBox=\"0 -960 960 960\">\n",
              "    <path d=\"M120-120v-720h720v720H120Zm60-500h600v-160H180v160Zm220 220h160v-160H400v160Zm0 220h160v-160H400v160ZM180-400h160v-160H180v160Zm440 0h160v-160H620v160ZM180-180h160v-160H180v160Zm440 0h160v-160H620v160Z\"/>\n",
              "  </svg>\n",
              "    </button>\n",
              "\n",
              "  <style>\n",
              "    .colab-df-container {\n",
              "      display:flex;\n",
              "      gap: 12px;\n",
              "    }\n",
              "\n",
              "    .colab-df-convert {\n",
              "      background-color: #E8F0FE;\n",
              "      border: none;\n",
              "      border-radius: 50%;\n",
              "      cursor: pointer;\n",
              "      display: none;\n",
              "      fill: #1967D2;\n",
              "      height: 32px;\n",
              "      padding: 0 0 0 0;\n",
              "      width: 32px;\n",
              "    }\n",
              "\n",
              "    .colab-df-convert:hover {\n",
              "      background-color: #E2EBFA;\n",
              "      box-shadow: 0px 1px 2px rgba(60, 64, 67, 0.3), 0px 1px 3px 1px rgba(60, 64, 67, 0.15);\n",
              "      fill: #174EA6;\n",
              "    }\n",
              "\n",
              "    .colab-df-buttons div {\n",
              "      margin-bottom: 4px;\n",
              "    }\n",
              "\n",
              "    [theme=dark] .colab-df-convert {\n",
              "      background-color: #3B4455;\n",
              "      fill: #D2E3FC;\n",
              "    }\n",
              "\n",
              "    [theme=dark] .colab-df-convert:hover {\n",
              "      background-color: #434B5C;\n",
              "      box-shadow: 0px 1px 3px 1px rgba(0, 0, 0, 0.15);\n",
              "      filter: drop-shadow(0px 1px 2px rgba(0, 0, 0, 0.3));\n",
              "      fill: #FFFFFF;\n",
              "    }\n",
              "  </style>\n",
              "\n",
              "    <script>\n",
              "      const buttonEl =\n",
              "        document.querySelector('#df-0a0f168b-7503-46b6-a520-8aa2f6100e04 button.colab-df-convert');\n",
              "      buttonEl.style.display =\n",
              "        google.colab.kernel.accessAllowed ? 'block' : 'none';\n",
              "\n",
              "      async function convertToInteractive(key) {\n",
              "        const element = document.querySelector('#df-0a0f168b-7503-46b6-a520-8aa2f6100e04');\n",
              "        const dataTable =\n",
              "          await google.colab.kernel.invokeFunction('convertToInteractive',\n",
              "                                                    [key], {});\n",
              "        if (!dataTable) return;\n",
              "\n",
              "        const docLinkHtml = 'Like what you see? Visit the ' +\n",
              "          '<a target=\"_blank\" href=https://colab.research.google.com/notebooks/data_table.ipynb>data table notebook</a>'\n",
              "          + ' to learn more about interactive tables.';\n",
              "        element.innerHTML = '';\n",
              "        dataTable['output_type'] = 'display_data';\n",
              "        await google.colab.output.renderOutput(dataTable, element);\n",
              "        const docLink = document.createElement('div');\n",
              "        docLink.innerHTML = docLinkHtml;\n",
              "        element.appendChild(docLink);\n",
              "      }\n",
              "    </script>\n",
              "  </div>\n",
              "\n",
              "\n",
              "<div id=\"df-bcf19a47-ed52-4976-a4d1-1dff41c0f442\">\n",
              "  <button class=\"colab-df-quickchart\" onclick=\"quickchart('df-bcf19a47-ed52-4976-a4d1-1dff41c0f442')\"\n",
              "            title=\"Suggest charts\"\n",
              "            style=\"display:none;\">\n",
              "\n",
              "<svg xmlns=\"http://www.w3.org/2000/svg\" height=\"24px\"viewBox=\"0 0 24 24\"\n",
              "     width=\"24px\">\n",
              "    <g>\n",
              "        <path d=\"M19 3H5c-1.1 0-2 .9-2 2v14c0 1.1.9 2 2 2h14c1.1 0 2-.9 2-2V5c0-1.1-.9-2-2-2zM9 17H7v-7h2v7zm4 0h-2V7h2v10zm4 0h-2v-4h2v4z\"/>\n",
              "    </g>\n",
              "</svg>\n",
              "  </button>\n",
              "\n",
              "<style>\n",
              "  .colab-df-quickchart {\n",
              "      --bg-color: #E8F0FE;\n",
              "      --fill-color: #1967D2;\n",
              "      --hover-bg-color: #E2EBFA;\n",
              "      --hover-fill-color: #174EA6;\n",
              "      --disabled-fill-color: #AAA;\n",
              "      --disabled-bg-color: #DDD;\n",
              "  }\n",
              "\n",
              "  [theme=dark] .colab-df-quickchart {\n",
              "      --bg-color: #3B4455;\n",
              "      --fill-color: #D2E3FC;\n",
              "      --hover-bg-color: #434B5C;\n",
              "      --hover-fill-color: #FFFFFF;\n",
              "      --disabled-bg-color: #3B4455;\n",
              "      --disabled-fill-color: #666;\n",
              "  }\n",
              "\n",
              "  .colab-df-quickchart {\n",
              "    background-color: var(--bg-color);\n",
              "    border: none;\n",
              "    border-radius: 50%;\n",
              "    cursor: pointer;\n",
              "    display: none;\n",
              "    fill: var(--fill-color);\n",
              "    height: 32px;\n",
              "    padding: 0;\n",
              "    width: 32px;\n",
              "  }\n",
              "\n",
              "  .colab-df-quickchart:hover {\n",
              "    background-color: var(--hover-bg-color);\n",
              "    box-shadow: 0 1px 2px rgba(60, 64, 67, 0.3), 0 1px 3px 1px rgba(60, 64, 67, 0.15);\n",
              "    fill: var(--button-hover-fill-color);\n",
              "  }\n",
              "\n",
              "  .colab-df-quickchart-complete:disabled,\n",
              "  .colab-df-quickchart-complete:disabled:hover {\n",
              "    background-color: var(--disabled-bg-color);\n",
              "    fill: var(--disabled-fill-color);\n",
              "    box-shadow: none;\n",
              "  }\n",
              "\n",
              "  .colab-df-spinner {\n",
              "    border: 2px solid var(--fill-color);\n",
              "    border-color: transparent;\n",
              "    border-bottom-color: var(--fill-color);\n",
              "    animation:\n",
              "      spin 1s steps(1) infinite;\n",
              "  }\n",
              "\n",
              "  @keyframes spin {\n",
              "    0% {\n",
              "      border-color: transparent;\n",
              "      border-bottom-color: var(--fill-color);\n",
              "      border-left-color: var(--fill-color);\n",
              "    }\n",
              "    20% {\n",
              "      border-color: transparent;\n",
              "      border-left-color: var(--fill-color);\n",
              "      border-top-color: var(--fill-color);\n",
              "    }\n",
              "    30% {\n",
              "      border-color: transparent;\n",
              "      border-left-color: var(--fill-color);\n",
              "      border-top-color: var(--fill-color);\n",
              "      border-right-color: var(--fill-color);\n",
              "    }\n",
              "    40% {\n",
              "      border-color: transparent;\n",
              "      border-right-color: var(--fill-color);\n",
              "      border-top-color: var(--fill-color);\n",
              "    }\n",
              "    60% {\n",
              "      border-color: transparent;\n",
              "      border-right-color: var(--fill-color);\n",
              "    }\n",
              "    80% {\n",
              "      border-color: transparent;\n",
              "      border-right-color: var(--fill-color);\n",
              "      border-bottom-color: var(--fill-color);\n",
              "    }\n",
              "    90% {\n",
              "      border-color: transparent;\n",
              "      border-bottom-color: var(--fill-color);\n",
              "    }\n",
              "  }\n",
              "</style>\n",
              "\n",
              "  <script>\n",
              "    async function quickchart(key) {\n",
              "      const quickchartButtonEl =\n",
              "        document.querySelector('#' + key + ' button');\n",
              "      quickchartButtonEl.disabled = true;  // To prevent multiple clicks.\n",
              "      quickchartButtonEl.classList.add('colab-df-spinner');\n",
              "      try {\n",
              "        const charts = await google.colab.kernel.invokeFunction(\n",
              "            'suggestCharts', [key], {});\n",
              "      } catch (error) {\n",
              "        console.error('Error during call to suggestCharts:', error);\n",
              "      }\n",
              "      quickchartButtonEl.classList.remove('colab-df-spinner');\n",
              "      quickchartButtonEl.classList.add('colab-df-quickchart-complete');\n",
              "    }\n",
              "    (() => {\n",
              "      let quickchartButtonEl =\n",
              "        document.querySelector('#df-bcf19a47-ed52-4976-a4d1-1dff41c0f442 button');\n",
              "      quickchartButtonEl.style.display =\n",
              "        google.colab.kernel.accessAllowed ? 'block' : 'none';\n",
              "    })();\n",
              "  </script>\n",
              "</div>\n",
              "\n",
              "  <div id=\"id_c5b3b8fa-b24c-480f-b250-bcf5ed8980d2\">\n",
              "    <style>\n",
              "      .colab-df-generate {\n",
              "        background-color: #E8F0FE;\n",
              "        border: none;\n",
              "        border-radius: 50%;\n",
              "        cursor: pointer;\n",
              "        display: none;\n",
              "        fill: #1967D2;\n",
              "        height: 32px;\n",
              "        padding: 0 0 0 0;\n",
              "        width: 32px;\n",
              "      }\n",
              "\n",
              "      .colab-df-generate:hover {\n",
              "        background-color: #E2EBFA;\n",
              "        box-shadow: 0px 1px 2px rgba(60, 64, 67, 0.3), 0px 1px 3px 1px rgba(60, 64, 67, 0.15);\n",
              "        fill: #174EA6;\n",
              "      }\n",
              "\n",
              "      [theme=dark] .colab-df-generate {\n",
              "        background-color: #3B4455;\n",
              "        fill: #D2E3FC;\n",
              "      }\n",
              "\n",
              "      [theme=dark] .colab-df-generate:hover {\n",
              "        background-color: #434B5C;\n",
              "        box-shadow: 0px 1px 3px 1px rgba(0, 0, 0, 0.15);\n",
              "        filter: drop-shadow(0px 1px 2px rgba(0, 0, 0, 0.3));\n",
              "        fill: #FFFFFF;\n",
              "      }\n",
              "    </style>\n",
              "    <button class=\"colab-df-generate\" onclick=\"generateWithVariable('df')\"\n",
              "            title=\"Generate code using this dataframe.\"\n",
              "            style=\"display:none;\">\n",
              "\n",
              "  <svg xmlns=\"http://www.w3.org/2000/svg\" height=\"24px\"viewBox=\"0 0 24 24\"\n",
              "       width=\"24px\">\n",
              "    <path d=\"M7,19H8.4L18.45,9,17,7.55,7,17.6ZM5,21V16.75L18.45,3.32a2,2,0,0,1,2.83,0l1.4,1.43a1.91,1.91,0,0,1,.58,1.4,1.91,1.91,0,0,1-.58,1.4L9.25,21ZM18.45,9,17,7.55Zm-12,3A5.31,5.31,0,0,0,4.9,8.1,5.31,5.31,0,0,0,1,6.5,5.31,5.31,0,0,0,4.9,4.9,5.31,5.31,0,0,0,6.5,1,5.31,5.31,0,0,0,8.1,4.9,5.31,5.31,0,0,0,12,6.5,5.46,5.46,0,0,0,6.5,12Z\"/>\n",
              "  </svg>\n",
              "    </button>\n",
              "    <script>\n",
              "      (() => {\n",
              "      const buttonEl =\n",
              "        document.querySelector('#id_c5b3b8fa-b24c-480f-b250-bcf5ed8980d2 button.colab-df-generate');\n",
              "      buttonEl.style.display =\n",
              "        google.colab.kernel.accessAllowed ? 'block' : 'none';\n",
              "\n",
              "      buttonEl.onclick = () => {\n",
              "        google.colab.notebook.generateWithVariable('df');\n",
              "      }\n",
              "      })();\n",
              "    </script>\n",
              "  </div>\n",
              "\n",
              "    </div>\n",
              "  </div>\n"
            ],
            "application/vnd.google.colaboratory.intrinsic+json": {
              "type": "dataframe",
              "variable_name": "df",
              "summary": "{\n  \"name\": \"df\",\n  \"rows\": 670,\n  \"fields\": [\n    {\n      \"column\": \"id\",\n      \"properties\": {\n        \"dtype\": \"string\",\n        \"num_unique_values\": 670,\n        \"samples\": [\n          \"190329_E04_17\",\n          \"190315_J010_03\",\n          \"190315_E011_05\"\n        ],\n        \"semantic_type\": \"\",\n        \"description\": \"\"\n      }\n    },\n    {\n      \"column\": \"tag\",\n      \"properties\": {\n        \"dtype\": \"category\",\n        \"num_unique_values\": 6,\n        \"samples\": [\n          \"phone call\",\n          \"meeting\",\n          \"training\"\n        ],\n        \"semantic_type\": \"\",\n        \"description\": \"\"\n      }\n    },\n    {\n      \"column\": \"title\",\n      \"properties\": {\n        \"dtype\": \"string\",\n        \"num_unique_values\": 666,\n        \"samples\": [\n          \"Meeting: Identify potential partners\",\n          \"\\u4f11\\u6687\\u306b\\u3064\\u3044\\u3066\\u306e\\u96d1\\u8ac7\",\n          \"Face-to-face conversation: new technology\"\n        ],\n        \"semantic_type\": \"\",\n        \"description\": \"\"\n      }\n    },\n    {\n      \"column\": \"original_language\",\n      \"properties\": {\n        \"dtype\": \"category\",\n        \"num_unique_values\": 2,\n        \"samples\": [\n          \"en\",\n          \"ja\"\n        ],\n        \"semantic_type\": \"\",\n        \"description\": \"\"\n      }\n    },\n    {\n      \"column\": \"conversation\",\n      \"properties\": {\n        \"dtype\": \"object\",\n        \"semantic_type\": \"\",\n        \"description\": \"\"\n      }\n    }\n  ]\n}"
            }
          },
          "metadata": {},
          "execution_count": 3
        }
      ]
    },
    {
      "cell_type": "markdown",
      "source": [
        "**Extracting and Processing the conversation data from a DataFrame**"
      ],
      "metadata": {
        "id": "YyU7MKYtPLeU"
      }
    },
    {
      "cell_type": "code",
      "source": [
        "df_cvs = pd.concat([pd.json_normalize(df['conversation'][i]) for i in range(len(df))],ignore_index=True)\n",
        "trainen = df_cvs[\"en_sentence\"].values.tolist()\n",
        "trainja = df_cvs[\"ja_sentence\"].values.tolist()"
      ],
      "metadata": {
        "id": "XZy-WafZSsZt"
      },
      "execution_count": null,
      "outputs": []
    },
    {
      "cell_type": "code",
      "source": [
        "df_cvs"
      ],
      "metadata": {
        "colab": {
          "base_uri": "https://localhost:8080/",
          "height": 493
        },
        "id": "Zp0saHjBS5ef",
        "outputId": "fef4b821-bbf1-4a28-c608-80dfbb2e5bf8"
      },
      "execution_count": null,
      "outputs": [
        {
          "output_type": "execute_result",
          "data": {
            "text/plain": [
              "       no  ja_speaker      en_speaker                          ja_sentence  \\\n",
              "0       1        土井さん         Doi-san                      はい、K社システム開発部です。   \n",
              "1       2        高市さん    Takaichi-san                          H社の高市と申します。   \n",
              "2       3        高市さん    Takaichi-san                      いつもお世話になっております。   \n",
              "3       4        土井さん         Doi-san                   こちらこそ、お世話になっております。   \n",
              "4       5        高市さん    Takaichi-san                      稲田さんはいらっしゃいますか？   \n",
              "...    ..         ...             ...                                  ...   \n",
              "19995  28    ボブ クックさん    Mr. Bob Cook                      今日の5時までに書き上げます。   \n",
              "19996  29  アル ジョンソンさん  Mr. Al Johnson                                完璧だね。   \n",
              "19997  30  アル ジョンソンさん  Mr. Al Johnson          明日ゼネラルマネージャーにA社の件を話しておきますね。   \n",
              "19998  31  アル ジョンソンさん  Mr. Al Johnson  彼がA社を気に入ってくれて、投資できる方向に決まることを願いましょう。   \n",
              "19999  32    ボブ クックさん    Mr. Bob Cook                               そうですね。   \n",
              "\n",
              "                                             en_sentence  \n",
              "0      Hi this is the systems development department ...  \n",
              "1                    My name is Takaichi from Company H.  \n",
              "2                                   Thank you as always.  \n",
              "3                           Thank you as always as well.  \n",
              "4                                    Is Inada-san there?  \n",
              "...                                                  ...  \n",
              "19995                 I'll finish it by 5 o'clock today.  \n",
              "19996                                           Perfect.  \n",
              "19997  I'll go talk to the general manager tomorrow t...  \n",
              "19998  Hopefully he will like Company A and make the ...  \n",
              "19999                                     I hope so too.  \n",
              "\n",
              "[20000 rows x 5 columns]"
            ],
            "text/html": [
              "\n",
              "  <div id=\"df-8bdfbb05-be17-4a50-b070-982a368b7240\" class=\"colab-df-container\">\n",
              "    <div>\n",
              "<style scoped>\n",
              "    .dataframe tbody tr th:only-of-type {\n",
              "        vertical-align: middle;\n",
              "    }\n",
              "\n",
              "    .dataframe tbody tr th {\n",
              "        vertical-align: top;\n",
              "    }\n",
              "\n",
              "    .dataframe thead th {\n",
              "        text-align: right;\n",
              "    }\n",
              "</style>\n",
              "<table border=\"1\" class=\"dataframe\">\n",
              "  <thead>\n",
              "    <tr style=\"text-align: right;\">\n",
              "      <th></th>\n",
              "      <th>no</th>\n",
              "      <th>ja_speaker</th>\n",
              "      <th>en_speaker</th>\n",
              "      <th>ja_sentence</th>\n",
              "      <th>en_sentence</th>\n",
              "    </tr>\n",
              "  </thead>\n",
              "  <tbody>\n",
              "    <tr>\n",
              "      <th>0</th>\n",
              "      <td>1</td>\n",
              "      <td>土井さん</td>\n",
              "      <td>Doi-san</td>\n",
              "      <td>はい、K社システム開発部です。</td>\n",
              "      <td>Hi this is the systems development department ...</td>\n",
              "    </tr>\n",
              "    <tr>\n",
              "      <th>1</th>\n",
              "      <td>2</td>\n",
              "      <td>高市さん</td>\n",
              "      <td>Takaichi-san</td>\n",
              "      <td>H社の高市と申します。</td>\n",
              "      <td>My name is Takaichi from Company H.</td>\n",
              "    </tr>\n",
              "    <tr>\n",
              "      <th>2</th>\n",
              "      <td>3</td>\n",
              "      <td>高市さん</td>\n",
              "      <td>Takaichi-san</td>\n",
              "      <td>いつもお世話になっております。</td>\n",
              "      <td>Thank you as always.</td>\n",
              "    </tr>\n",
              "    <tr>\n",
              "      <th>3</th>\n",
              "      <td>4</td>\n",
              "      <td>土井さん</td>\n",
              "      <td>Doi-san</td>\n",
              "      <td>こちらこそ、お世話になっております。</td>\n",
              "      <td>Thank you as always as well.</td>\n",
              "    </tr>\n",
              "    <tr>\n",
              "      <th>4</th>\n",
              "      <td>5</td>\n",
              "      <td>高市さん</td>\n",
              "      <td>Takaichi-san</td>\n",
              "      <td>稲田さんはいらっしゃいますか？</td>\n",
              "      <td>Is Inada-san there?</td>\n",
              "    </tr>\n",
              "    <tr>\n",
              "      <th>...</th>\n",
              "      <td>...</td>\n",
              "      <td>...</td>\n",
              "      <td>...</td>\n",
              "      <td>...</td>\n",
              "      <td>...</td>\n",
              "    </tr>\n",
              "    <tr>\n",
              "      <th>19995</th>\n",
              "      <td>28</td>\n",
              "      <td>ボブ クックさん</td>\n",
              "      <td>Mr. Bob Cook</td>\n",
              "      <td>今日の5時までに書き上げます。</td>\n",
              "      <td>I'll finish it by 5 o'clock today.</td>\n",
              "    </tr>\n",
              "    <tr>\n",
              "      <th>19996</th>\n",
              "      <td>29</td>\n",
              "      <td>アル ジョンソンさん</td>\n",
              "      <td>Mr. Al Johnson</td>\n",
              "      <td>完璧だね。</td>\n",
              "      <td>Perfect.</td>\n",
              "    </tr>\n",
              "    <tr>\n",
              "      <th>19997</th>\n",
              "      <td>30</td>\n",
              "      <td>アル ジョンソンさん</td>\n",
              "      <td>Mr. Al Johnson</td>\n",
              "      <td>明日ゼネラルマネージャーにA社の件を話しておきますね。</td>\n",
              "      <td>I'll go talk to the general manager tomorrow t...</td>\n",
              "    </tr>\n",
              "    <tr>\n",
              "      <th>19998</th>\n",
              "      <td>31</td>\n",
              "      <td>アル ジョンソンさん</td>\n",
              "      <td>Mr. Al Johnson</td>\n",
              "      <td>彼がA社を気に入ってくれて、投資できる方向に決まることを願いましょう。</td>\n",
              "      <td>Hopefully he will like Company A and make the ...</td>\n",
              "    </tr>\n",
              "    <tr>\n",
              "      <th>19999</th>\n",
              "      <td>32</td>\n",
              "      <td>ボブ クックさん</td>\n",
              "      <td>Mr. Bob Cook</td>\n",
              "      <td>そうですね。</td>\n",
              "      <td>I hope so too.</td>\n",
              "    </tr>\n",
              "  </tbody>\n",
              "</table>\n",
              "<p>20000 rows × 5 columns</p>\n",
              "</div>\n",
              "    <div class=\"colab-df-buttons\">\n",
              "\n",
              "  <div class=\"colab-df-container\">\n",
              "    <button class=\"colab-df-convert\" onclick=\"convertToInteractive('df-8bdfbb05-be17-4a50-b070-982a368b7240')\"\n",
              "            title=\"Convert this dataframe to an interactive table.\"\n",
              "            style=\"display:none;\">\n",
              "\n",
              "  <svg xmlns=\"http://www.w3.org/2000/svg\" height=\"24px\" viewBox=\"0 -960 960 960\">\n",
              "    <path d=\"M120-120v-720h720v720H120Zm60-500h600v-160H180v160Zm220 220h160v-160H400v160Zm0 220h160v-160H400v160ZM180-400h160v-160H180v160Zm440 0h160v-160H620v160ZM180-180h160v-160H180v160Zm440 0h160v-160H620v160Z\"/>\n",
              "  </svg>\n",
              "    </button>\n",
              "\n",
              "  <style>\n",
              "    .colab-df-container {\n",
              "      display:flex;\n",
              "      gap: 12px;\n",
              "    }\n",
              "\n",
              "    .colab-df-convert {\n",
              "      background-color: #E8F0FE;\n",
              "      border: none;\n",
              "      border-radius: 50%;\n",
              "      cursor: pointer;\n",
              "      display: none;\n",
              "      fill: #1967D2;\n",
              "      height: 32px;\n",
              "      padding: 0 0 0 0;\n",
              "      width: 32px;\n",
              "    }\n",
              "\n",
              "    .colab-df-convert:hover {\n",
              "      background-color: #E2EBFA;\n",
              "      box-shadow: 0px 1px 2px rgba(60, 64, 67, 0.3), 0px 1px 3px 1px rgba(60, 64, 67, 0.15);\n",
              "      fill: #174EA6;\n",
              "    }\n",
              "\n",
              "    .colab-df-buttons div {\n",
              "      margin-bottom: 4px;\n",
              "    }\n",
              "\n",
              "    [theme=dark] .colab-df-convert {\n",
              "      background-color: #3B4455;\n",
              "      fill: #D2E3FC;\n",
              "    }\n",
              "\n",
              "    [theme=dark] .colab-df-convert:hover {\n",
              "      background-color: #434B5C;\n",
              "      box-shadow: 0px 1px 3px 1px rgba(0, 0, 0, 0.15);\n",
              "      filter: drop-shadow(0px 1px 2px rgba(0, 0, 0, 0.3));\n",
              "      fill: #FFFFFF;\n",
              "    }\n",
              "  </style>\n",
              "\n",
              "    <script>\n",
              "      const buttonEl =\n",
              "        document.querySelector('#df-8bdfbb05-be17-4a50-b070-982a368b7240 button.colab-df-convert');\n",
              "      buttonEl.style.display =\n",
              "        google.colab.kernel.accessAllowed ? 'block' : 'none';\n",
              "\n",
              "      async function convertToInteractive(key) {\n",
              "        const element = document.querySelector('#df-8bdfbb05-be17-4a50-b070-982a368b7240');\n",
              "        const dataTable =\n",
              "          await google.colab.kernel.invokeFunction('convertToInteractive',\n",
              "                                                    [key], {});\n",
              "        if (!dataTable) return;\n",
              "\n",
              "        const docLinkHtml = 'Like what you see? Visit the ' +\n",
              "          '<a target=\"_blank\" href=https://colab.research.google.com/notebooks/data_table.ipynb>data table notebook</a>'\n",
              "          + ' to learn more about interactive tables.';\n",
              "        element.innerHTML = '';\n",
              "        dataTable['output_type'] = 'display_data';\n",
              "        await google.colab.output.renderOutput(dataTable, element);\n",
              "        const docLink = document.createElement('div');\n",
              "        docLink.innerHTML = docLinkHtml;\n",
              "        element.appendChild(docLink);\n",
              "      }\n",
              "    </script>\n",
              "  </div>\n",
              "\n",
              "\n",
              "<div id=\"df-7f1862f0-04bf-4ba6-a703-450e38fe222a\">\n",
              "  <button class=\"colab-df-quickchart\" onclick=\"quickchart('df-7f1862f0-04bf-4ba6-a703-450e38fe222a')\"\n",
              "            title=\"Suggest charts\"\n",
              "            style=\"display:none;\">\n",
              "\n",
              "<svg xmlns=\"http://www.w3.org/2000/svg\" height=\"24px\"viewBox=\"0 0 24 24\"\n",
              "     width=\"24px\">\n",
              "    <g>\n",
              "        <path d=\"M19 3H5c-1.1 0-2 .9-2 2v14c0 1.1.9 2 2 2h14c1.1 0 2-.9 2-2V5c0-1.1-.9-2-2-2zM9 17H7v-7h2v7zm4 0h-2V7h2v10zm4 0h-2v-4h2v4z\"/>\n",
              "    </g>\n",
              "</svg>\n",
              "  </button>\n",
              "\n",
              "<style>\n",
              "  .colab-df-quickchart {\n",
              "      --bg-color: #E8F0FE;\n",
              "      --fill-color: #1967D2;\n",
              "      --hover-bg-color: #E2EBFA;\n",
              "      --hover-fill-color: #174EA6;\n",
              "      --disabled-fill-color: #AAA;\n",
              "      --disabled-bg-color: #DDD;\n",
              "  }\n",
              "\n",
              "  [theme=dark] .colab-df-quickchart {\n",
              "      --bg-color: #3B4455;\n",
              "      --fill-color: #D2E3FC;\n",
              "      --hover-bg-color: #434B5C;\n",
              "      --hover-fill-color: #FFFFFF;\n",
              "      --disabled-bg-color: #3B4455;\n",
              "      --disabled-fill-color: #666;\n",
              "  }\n",
              "\n",
              "  .colab-df-quickchart {\n",
              "    background-color: var(--bg-color);\n",
              "    border: none;\n",
              "    border-radius: 50%;\n",
              "    cursor: pointer;\n",
              "    display: none;\n",
              "    fill: var(--fill-color);\n",
              "    height: 32px;\n",
              "    padding: 0;\n",
              "    width: 32px;\n",
              "  }\n",
              "\n",
              "  .colab-df-quickchart:hover {\n",
              "    background-color: var(--hover-bg-color);\n",
              "    box-shadow: 0 1px 2px rgba(60, 64, 67, 0.3), 0 1px 3px 1px rgba(60, 64, 67, 0.15);\n",
              "    fill: var(--button-hover-fill-color);\n",
              "  }\n",
              "\n",
              "  .colab-df-quickchart-complete:disabled,\n",
              "  .colab-df-quickchart-complete:disabled:hover {\n",
              "    background-color: var(--disabled-bg-color);\n",
              "    fill: var(--disabled-fill-color);\n",
              "    box-shadow: none;\n",
              "  }\n",
              "\n",
              "  .colab-df-spinner {\n",
              "    border: 2px solid var(--fill-color);\n",
              "    border-color: transparent;\n",
              "    border-bottom-color: var(--fill-color);\n",
              "    animation:\n",
              "      spin 1s steps(1) infinite;\n",
              "  }\n",
              "\n",
              "  @keyframes spin {\n",
              "    0% {\n",
              "      border-color: transparent;\n",
              "      border-bottom-color: var(--fill-color);\n",
              "      border-left-color: var(--fill-color);\n",
              "    }\n",
              "    20% {\n",
              "      border-color: transparent;\n",
              "      border-left-color: var(--fill-color);\n",
              "      border-top-color: var(--fill-color);\n",
              "    }\n",
              "    30% {\n",
              "      border-color: transparent;\n",
              "      border-left-color: var(--fill-color);\n",
              "      border-top-color: var(--fill-color);\n",
              "      border-right-color: var(--fill-color);\n",
              "    }\n",
              "    40% {\n",
              "      border-color: transparent;\n",
              "      border-right-color: var(--fill-color);\n",
              "      border-top-color: var(--fill-color);\n",
              "    }\n",
              "    60% {\n",
              "      border-color: transparent;\n",
              "      border-right-color: var(--fill-color);\n",
              "    }\n",
              "    80% {\n",
              "      border-color: transparent;\n",
              "      border-right-color: var(--fill-color);\n",
              "      border-bottom-color: var(--fill-color);\n",
              "    }\n",
              "    90% {\n",
              "      border-color: transparent;\n",
              "      border-bottom-color: var(--fill-color);\n",
              "    }\n",
              "  }\n",
              "</style>\n",
              "\n",
              "  <script>\n",
              "    async function quickchart(key) {\n",
              "      const quickchartButtonEl =\n",
              "        document.querySelector('#' + key + ' button');\n",
              "      quickchartButtonEl.disabled = true;  // To prevent multiple clicks.\n",
              "      quickchartButtonEl.classList.add('colab-df-spinner');\n",
              "      try {\n",
              "        const charts = await google.colab.kernel.invokeFunction(\n",
              "            'suggestCharts', [key], {});\n",
              "      } catch (error) {\n",
              "        console.error('Error during call to suggestCharts:', error);\n",
              "      }\n",
              "      quickchartButtonEl.classList.remove('colab-df-spinner');\n",
              "      quickchartButtonEl.classList.add('colab-df-quickchart-complete');\n",
              "    }\n",
              "    (() => {\n",
              "      let quickchartButtonEl =\n",
              "        document.querySelector('#df-7f1862f0-04bf-4ba6-a703-450e38fe222a button');\n",
              "      quickchartButtonEl.style.display =\n",
              "        google.colab.kernel.accessAllowed ? 'block' : 'none';\n",
              "    })();\n",
              "  </script>\n",
              "</div>\n",
              "\n",
              "  <div id=\"id_ceb9d594-41f7-4d2d-81f2-c931dfca4abb\">\n",
              "    <style>\n",
              "      .colab-df-generate {\n",
              "        background-color: #E8F0FE;\n",
              "        border: none;\n",
              "        border-radius: 50%;\n",
              "        cursor: pointer;\n",
              "        display: none;\n",
              "        fill: #1967D2;\n",
              "        height: 32px;\n",
              "        padding: 0 0 0 0;\n",
              "        width: 32px;\n",
              "      }\n",
              "\n",
              "      .colab-df-generate:hover {\n",
              "        background-color: #E2EBFA;\n",
              "        box-shadow: 0px 1px 2px rgba(60, 64, 67, 0.3), 0px 1px 3px 1px rgba(60, 64, 67, 0.15);\n",
              "        fill: #174EA6;\n",
              "      }\n",
              "\n",
              "      [theme=dark] .colab-df-generate {\n",
              "        background-color: #3B4455;\n",
              "        fill: #D2E3FC;\n",
              "      }\n",
              "\n",
              "      [theme=dark] .colab-df-generate:hover {\n",
              "        background-color: #434B5C;\n",
              "        box-shadow: 0px 1px 3px 1px rgba(0, 0, 0, 0.15);\n",
              "        filter: drop-shadow(0px 1px 2px rgba(0, 0, 0, 0.3));\n",
              "        fill: #FFFFFF;\n",
              "      }\n",
              "    </style>\n",
              "    <button class=\"colab-df-generate\" onclick=\"generateWithVariable('df_cvs')\"\n",
              "            title=\"Generate code using this dataframe.\"\n",
              "            style=\"display:none;\">\n",
              "\n",
              "  <svg xmlns=\"http://www.w3.org/2000/svg\" height=\"24px\"viewBox=\"0 0 24 24\"\n",
              "       width=\"24px\">\n",
              "    <path d=\"M7,19H8.4L18.45,9,17,7.55,7,17.6ZM5,21V16.75L18.45,3.32a2,2,0,0,1,2.83,0l1.4,1.43a1.91,1.91,0,0,1,.58,1.4,1.91,1.91,0,0,1-.58,1.4L9.25,21ZM18.45,9,17,7.55Zm-12,3A5.31,5.31,0,0,0,4.9,8.1,5.31,5.31,0,0,0,1,6.5,5.31,5.31,0,0,0,4.9,4.9,5.31,5.31,0,0,0,6.5,1,5.31,5.31,0,0,0,8.1,4.9,5.31,5.31,0,0,0,12,6.5,5.46,5.46,0,0,0,6.5,12Z\"/>\n",
              "  </svg>\n",
              "    </button>\n",
              "    <script>\n",
              "      (() => {\n",
              "      const buttonEl =\n",
              "        document.querySelector('#id_ceb9d594-41f7-4d2d-81f2-c931dfca4abb button.colab-df-generate');\n",
              "      buttonEl.style.display =\n",
              "        google.colab.kernel.accessAllowed ? 'block' : 'none';\n",
              "\n",
              "      buttonEl.onclick = () => {\n",
              "        google.colab.notebook.generateWithVariable('df_cvs');\n",
              "      }\n",
              "      })();\n",
              "    </script>\n",
              "  </div>\n",
              "\n",
              "    </div>\n",
              "  </div>\n"
            ],
            "application/vnd.google.colaboratory.intrinsic+json": {
              "type": "dataframe",
              "variable_name": "df_cvs",
              "summary": "{\n  \"name\": \"df_cvs\",\n  \"rows\": 20000,\n  \"fields\": [\n    {\n      \"column\": \"no\",\n      \"properties\": {\n        \"dtype\": \"number\",\n        \"std\": 10,\n        \"min\": 1,\n        \"max\": 40,\n        \"num_unique_values\": 40,\n        \"samples\": [\n          20,\n          17,\n          16\n        ],\n        \"semantic_type\": \"\",\n        \"description\": \"\"\n      }\n    },\n    {\n      \"column\": \"ja_speaker\",\n      \"properties\": {\n        \"dtype\": \"category\",\n        \"num_unique_values\": 852,\n        \"samples\": [\n          \"\\u6d77\\u539f\\u3055\\u3093\",\n          \"\\u77e2\\u90e8\\u3055\\u3093\",\n          \"\\u30bf\\u30a4\\u30e9\\u30fc\"\n        ],\n        \"semantic_type\": \"\",\n        \"description\": \"\"\n      }\n    },\n    {\n      \"column\": \"en_speaker\",\n      \"properties\": {\n        \"dtype\": \"category\",\n        \"num_unique_values\": 924,\n        \"samples\": [\n          \"Yamamoto Nao\",\n          \"Mr. Izutani Eiji\",\n          \"Deguchi-san\"\n        ],\n        \"semantic_type\": \"\",\n        \"description\": \"\"\n      }\n    },\n    {\n      \"column\": \"ja_sentence\",\n      \"properties\": {\n        \"dtype\": \"string\",\n        \"num_unique_values\": 18054,\n        \"samples\": [\n          \"\\u7d42\\u308f\\u308b\\u7d42\\u308f\\u308b\\u3002\",\n          \"\\u305f\\u3068\\u3048\\u3070\\u3001\\u6642\\u9593\\u306f12\\u306e\\u6570\\u5b57\\u306824\\u6642\\u9593\\u306b\\u57fa\\u3065\\u3044\\u3066\\u3044\\u307e\\u3059\\u3002\",\n          \"\\u79c1\\u305f\\u3061\\u304c\\u805e\\u3044\\u3066\\u3044\\u306a\\u3044\\u3053\\u3068\\u304c\\u4f55\\u304b\\u8d77\\u3053\\u3063\\u3066\\u308b\\u306e\\uff1f\"\n        ],\n        \"semantic_type\": \"\",\n        \"description\": \"\"\n      }\n    },\n    {\n      \"column\": \"en_sentence\",\n      \"properties\": {\n        \"dtype\": \"string\",\n        \"num_unique_values\": 17701,\n        \"samples\": [\n          \"I guess that's just another difference between Kansai and Kanto.\",\n          \"Log-off and log-in again.\",\n          \"Let's get your calendar out and go over your schedule then, shall we?\"\n        ],\n        \"semantic_type\": \"\",\n        \"description\": \"\"\n      }\n    }\n  ]\n}"
            }
          },
          "metadata": {},
          "execution_count": 5
        }
      ]
    },
    {
      "cell_type": "code",
      "source": [
        "len(trainen)"
      ],
      "metadata": {
        "colab": {
          "base_uri": "https://localhost:8080/"
        },
        "id": "M3CDedKzS-gD",
        "outputId": "0ba083af-ac79-4205-f737-d00c4609f29a"
      },
      "execution_count": null,
      "outputs": [
        {
          "output_type": "execute_result",
          "data": {
            "text/plain": [
              "20000"
            ]
          },
          "metadata": {},
          "execution_count": 6
        }
      ]
    },
    {
      "cell_type": "markdown",
      "source": [
        "**Slice the trainen list**"
      ],
      "metadata": {
        "id": "UlCGdS-CQZE9"
      }
    },
    {
      "cell_type": "code",
      "source": [
        "trainen[140:160]"
      ],
      "metadata": {
        "colab": {
          "base_uri": "https://localhost:8080/"
        },
        "id": "BQueW1bSUizp",
        "outputId": "1bba6a6a-09df-4a06-8643-7059e68eebdb"
      },
      "execution_count": null,
      "outputs": [
        {
          "output_type": "execute_result",
          "data": {
            "text/plain": [
              "['I hope so.',\n",
              " 'Okay, anyways, we will send 2 police officers from our side to the general meeting of shareholders on the day.',\n",
              " 'Thank you very much.',\n",
              " 'I will have them speak to your reception around 9:30 in the morning.',\n",
              " 'Okay.',\n",
              " 'I will be stationed at the reception ten minutes before the start of the general meeting so please let me know.',\n",
              " 'Okay, got it.',\n",
              " 'Alright, then I look forward to working with you on the day.',\n",
              " 'Thank you for calling, this is the Judicial Scrivener office T.',\n",
              " 'Thank you as always, my name is Takada from Company I.',\n",
              " 'Thank you.',\n",
              " 'Sorry but is Mr. Takanashi in today?',\n",
              " 'Please wait a moment.',\n",
              " 'Thank you for holding, this is Takanashi.',\n",
              " 'Thank you as always, this is Takada.',\n",
              " \"I'm calling today in regards to a registration request.\",\n",
              " 'I exercised the stock option last month and the stock increased.',\n",
              " \"And I'd like to ask you to do the registration process for changing the total number of stock issued.\",\n",
              " 'Okay.',\n",
              " 'I will send you an email on the details of the number of stock.']"
            ]
          },
          "metadata": {},
          "execution_count": 7
        }
      ]
    },
    {
      "cell_type": "markdown",
      "source": [
        "**Concatenating the first 10,000 English sentences into a single string and calculating the length.**"
      ],
      "metadata": {
        "id": "o_8UmcH6Qpx9"
      }
    },
    {
      "cell_type": "code",
      "source": [
        "#concat all english messages\n",
        "text = ' '.join(trainen[0:10000]) # Out of RAM if we use all the data\n",
        "print('length of the corpus is: :', len(text))"
      ],
      "metadata": {
        "colab": {
          "base_uri": "https://localhost:8080/"
        },
        "id": "Gq10Mma9Upap",
        "outputId": "e9b1a113-5201-4e0f-fd9b-408ff2c56c5a"
      },
      "execution_count": null,
      "outputs": [
        {
          "output_type": "stream",
          "name": "stdout",
          "text": [
            "length of the corpus is: : 532978\n"
          ]
        }
      ]
    },
    {
      "cell_type": "markdown",
      "source": [
        "**Tokenize the text using a regular expression tokenizer.**"
      ],
      "metadata": {
        "id": "FjeLm-o8RL5o"
      }
    },
    {
      "cell_type": "code",
      "source": [
        "# tokenizer\n",
        "tokenizer = RegexpTokenizer(r'\\w+')\n",
        "words = tokenizer.tokenize(text)"
      ],
      "metadata": {
        "id": "LsDe1n-mU1uP"
      },
      "execution_count": null,
      "outputs": []
    },
    {
      "cell_type": "markdown",
      "source": [
        "**To find the unique words in the tokenized text and creating a dictionary to map them to indices.**"
      ],
      "metadata": {
        "id": "jd2rKrD_Rh3U"
      }
    },
    {
      "cell_type": "code",
      "source": [
        "# get unique words\n",
        "unique_words = np.unique(words)\n",
        "unique_word_index = dict((c, i) for i, c in enumerate(unique_words))"
      ],
      "metadata": {
        "id": "lMLQ6RbAhZ7H"
      },
      "execution_count": null,
      "outputs": []
    },
    {
      "cell_type": "code",
      "source": [
        "len(unique_words)"
      ],
      "metadata": {
        "colab": {
          "base_uri": "https://localhost:8080/"
        },
        "id": "gnZWmqJ_hd8T",
        "outputId": "5ff11646-a403-4ca7-9d40-70dfe7feb05c"
      },
      "execution_count": null,
      "outputs": [
        {
          "output_type": "execute_result",
          "data": {
            "text/plain": [
              "6197"
            ]
          },
          "metadata": {},
          "execution_count": 11
        }
      ]
    },
    {
      "cell_type": "code",
      "source": [
        "unique_words[1000:1020]"
      ],
      "metadata": {
        "colab": {
          "base_uri": "https://localhost:8080/"
        },
        "id": "nBsX8Cx_hi2L",
        "outputId": "c6ca5562-dd74-4c10-acbe-bd26984a02c5"
      },
      "execution_count": null,
      "outputs": [
        {
          "output_type": "execute_result",
          "data": {
            "text/plain": [
              "array(['Shanghai', 'She', 'Shibata', 'Shibuya', 'Shiota', 'Shiraishi',\n",
              "       'Shiroki', 'Shirota', 'Shizuo', 'Shodoshima', 'Shop', 'Should',\n",
              "       'Shouldn', 'Shuji', 'Silence', 'Silicone', 'Similar', 'Since',\n",
              "       'Sir', 'Six'], dtype='<U16')"
            ]
          },
          "metadata": {},
          "execution_count": 12
        }
      ]
    },
    {
      "cell_type": "markdown",
      "source": [
        "**Creating lists of previous and next words**"
      ],
      "metadata": {
        "id": "MMiAg1XvSlQT"
      }
    },
    {
      "cell_type": "code",
      "source": [
        "# model input = prev_words\n",
        "# model output = next_words\n",
        "\n",
        "WORD_LENGTH = 5\n",
        "next_words = []\n",
        "prev_words = []\n",
        "for j in range(len(words) - WORD_LENGTH):\n",
        "     prev_words.append(words[j:j + WORD_LENGTH])\n",
        "     next_words.append(words[j + WORD_LENGTH])\n",
        "print(prev_words[0])\n",
        "print(next_words[0])"
      ],
      "metadata": {
        "colab": {
          "base_uri": "https://localhost:8080/"
        },
        "id": "mhHD42p7hndL",
        "outputId": "0cc390a9-3e5e-4eed-eb15-1c370e1d8754"
      },
      "execution_count": null,
      "outputs": [
        {
          "output_type": "stream",
          "name": "stdout",
          "text": [
            "['Hi', 'this', 'is', 'the', 'systems']\n",
            "development\n"
          ]
        }
      ]
    },
    {
      "cell_type": "markdown",
      "source": [
        "**Representing the input and output data by creating NumPy arrays**"
      ],
      "metadata": {
        "id": "CIIv4k6uS_mY"
      }
    },
    {
      "cell_type": "code",
      "source": [
        "# convert features into numpy arrays\n",
        "X = np.zeros((len(prev_words), WORD_LENGTH, len(unique_words)), dtype=bool)\n",
        "Y = np.zeros((len(next_words), len(unique_words)), dtype=bool)\n",
        "# prepare word2id index\n",
        "for i, each_words in enumerate(prev_words):\n",
        "   for j, each_word in enumerate(each_words):\n",
        "        X[i, j, unique_word_index[each_word]] = 1\n",
        "   Y[i, unique_word_index[next_words[i]]] = 1\n",
        "word2id = unique_word_index"
      ],
      "metadata": {
        "id": "lpzawI58hqle"
      },
      "execution_count": null,
      "outputs": []
    },
    {
      "cell_type": "markdown",
      "source": [
        "**Creating a dictionary id2word that serves as a reverse mapping of the unique_word_index dictionary.**"
      ],
      "metadata": {
        "id": "8xgmEhAgTXTg"
      }
    },
    {
      "cell_type": "code",
      "source": [
        "# prepare id2word index ==> for inference\n",
        "id2word = {y:x for x,y in unique_word_index.items()}"
      ],
      "metadata": {
        "id": "ZBUMVQlphulN"
      },
      "execution_count": null,
      "outputs": []
    },
    {
      "cell_type": "markdown",
      "source": [
        "**Sequential neural network model for language modeling.**"
      ],
      "metadata": {
        "id": "k4evfNeKTms_"
      }
    },
    {
      "cell_type": "code",
      "source": [
        "# build model\n",
        "model = Sequential()\n",
        "model.add(LSTM(128, input_shape=(WORD_LENGTH, len(unique_words))))\n",
        "model.add(Dense(len(unique_words)))\n",
        "model.add(Activation('softmax'))"
      ],
      "metadata": {
        "id": "tiyitMmPh0An"
      },
      "execution_count": null,
      "outputs": []
    },
    {
      "cell_type": "markdown",
      "source": [
        "**Training the model**"
      ],
      "metadata": {
        "id": "M4ZH6RRWT1jz"
      }
    },
    {
      "cell_type": "code",
      "source": [
        "# train model\n",
        "optimizer = RMSprop(learning_rate=0.01)\n",
        "model.compile(loss='categorical_crossentropy', optimizer=optimizer, metrics=['accuracy'])\n",
        "history = model.fit(X, Y, validation_split=0.05, batch_size=128, epochs=2, shuffle=True).history"
      ],
      "metadata": {
        "colab": {
          "base_uri": "https://localhost:8080/"
        },
        "id": "2WpgWSIPh4s2",
        "outputId": "5e78a901-7558-4ffa-d826-f0337443887b"
      },
      "execution_count": null,
      "outputs": [
        {
          "output_type": "stream",
          "name": "stdout",
          "text": [
            "Epoch 1/2\n",
            "769/769 [==============================] - 231s 296ms/step - loss: 6.2250 - accuracy: 0.0776 - val_loss: 5.8277 - val_accuracy: 0.1198\n",
            "Epoch 2/2\n",
            "769/769 [==============================] - 221s 288ms/step - loss: 5.5005 - accuracy: 0.1424 - val_loss: 5.5933 - val_accuracy: 0.1368\n"
          ]
        }
      ]
    },
    {
      "cell_type": "markdown",
      "source": [
        "**Save the trained model**"
      ],
      "metadata": {
        "id": "Pn5zUOjmUBJZ"
      }
    },
    {
      "cell_type": "code",
      "source": [
        "# save model\n",
        "model.save('next_word_model.h5')\n",
        "pickle.dump(history, open(\"history.p\", \"wb\"))"
      ],
      "metadata": {
        "colab": {
          "base_uri": "https://localhost:8080/"
        },
        "id": "QsAHpAuku5wK",
        "outputId": "4ec4f779-37a6-4bf7-c731-db7bd2bea4cc"
      },
      "execution_count": null,
      "outputs": [
        {
          "output_type": "stream",
          "name": "stderr",
          "text": [
            "/usr/local/lib/python3.10/dist-packages/keras/src/engine/training.py:3103: UserWarning: You are saving your model as an HDF5 file via `model.save()`. This file format is considered legacy. We recommend using instead the native Keras format, e.g. `model.save('my_model.keras')`.\n",
            "  saving_api.save_model(\n"
          ]
        }
      ]
    },
    {
      "cell_type": "code",
      "source": [
        "history"
      ],
      "metadata": {
        "colab": {
          "base_uri": "https://localhost:8080/"
        },
        "id": "jZMz3bBOu6Ip",
        "outputId": "b31811a2-50f1-4c32-e3cd-d3faed8eda53"
      },
      "execution_count": null,
      "outputs": [
        {
          "output_type": "execute_result",
          "data": {
            "text/plain": [
              "{'loss': [6.225045204162598, 5.500514984130859],\n",
              " 'accuracy': [0.07756534218788147, 0.14242856204509735],\n",
              " 'val_loss': [5.827695369720459, 5.593273639678955],\n",
              " 'val_accuracy': [0.11978361755609512, 0.13678516447544098]}"
            ]
          },
          "metadata": {},
          "execution_count": 19
        }
      ]
    },
    {
      "cell_type": "markdown",
      "source": [
        "**Evaluation of the model**"
      ],
      "metadata": {
        "id": "OoKSnNQxUYwI"
      }
    },
    {
      "cell_type": "code",
      "source": [
        "# evaluate model\n",
        "plt.plot(history['accuracy'])\n",
        "plt.plot(history['val_accuracy'])\n",
        "plt.title('model accuracy')\n",
        "plt.ylabel('accuracy')\n",
        "plt.xlabel('epoch')\n",
        "plt.legend(['train', 'test'], loc='upper left')"
      ],
      "metadata": {
        "colab": {
          "base_uri": "https://localhost:8080/",
          "height": 489
        },
        "id": "Pbg-MwAju6We",
        "outputId": "44609549-09e3-4277-a567-5acbeed34c9d"
      },
      "execution_count": null,
      "outputs": [
        {
          "output_type": "execute_result",
          "data": {
            "text/plain": [
              "<matplotlib.legend.Legend at 0x7a5dbc51ae00>"
            ]
          },
          "metadata": {},
          "execution_count": 20
        },
        {
          "output_type": "display_data",
          "data": {
            "text/plain": [
              "<Figure size 640x480 with 1 Axes>"
            ],
            "image/png": "[encoded data removed]"
          },
          "metadata": {}
        }
      ]
    },
    {
      "cell_type": "code",
      "source": [
        "plt.plot(history['loss'])\n",
        "plt.plot(history['val_loss'])\n",
        "plt.title('model loss')\n",
        "plt.ylabel('loss')\n",
        "plt.xlabel('epoch')\n",
        "plt.legend(['train', 'test'], loc='upper left')"
      ],
      "metadata": {
        "colab": {
          "base_uri": "https://localhost:8080/",
          "height": 489
        },
        "id": "L084ScWru6iy",
        "outputId": "2bae381d-5ae1-40b9-f637-8bd2097111de"
      },
      "execution_count": null,
      "outputs": [
        {
          "output_type": "execute_result",
          "data": {
            "text/plain": [
              "<matplotlib.legend.Legend at 0x7a5dbc4db100>"
            ]
          },
          "metadata": {},
          "execution_count": 21
        },
        {
          "output_type": "display_data",
          "data": {
            "text/plain": [
              "<Figure size 640x480 with 1 Axes>"
            ],
            "image/png": "[encoded data removed]"
          },
          "metadata": {}
        }
      ]
    },
    {
      "cell_type": "markdown",
      "source": [
        "**Loading the saved model**"
      ],
      "metadata": {
        "id": "U5M5URCwUwYK"
      }
    },
    {
      "cell_type": "code",
      "source": [
        "# load model -- 32.3 m\n",
        "model = load_model('/content/next_word_model.h5')"
      ],
      "metadata": {
        "id": "6KYqq4etvUgk"
      },
      "execution_count": null,
      "outputs": []
    },
    {
      "cell_type": "markdown",
      "source": [
        "**Function to prepare input text for the language model by tokenizing it and converting it into a numerical representation.**"
      ],
      "metadata": {
        "id": "w1GO2loBVZ4M"
      }
    },
    {
      "cell_type": "code",
      "source": [
        "def prepare_input(text):\n",
        "    words = tokenizer.tokenize(text)\n",
        "    x = np.zeros((1, WORD_LENGTH, len(unique_words)))\n",
        "    for t, word in enumerate(words):\n",
        "        x[0, t, word2id[word]] = 1.\n",
        "\n",
        "    return x"
      ],
      "metadata": {
        "id": "9uGxX6hyvaEp"
      },
      "execution_count": null,
      "outputs": []
    },
    {
      "cell_type": "markdown",
      "source": [
        "**Function for selecting the top 3 most likely words from the predicted probabilities**"
      ],
      "metadata": {
        "id": "r29qhHnaVx2G"
      }
    },
    {
      "cell_type": "code",
      "source": [
        "def sample(preds, top_n=3):\n",
        "    preds = np.asarray(preds).astype('float64')\n",
        "    preds = np.log(preds)\n",
        "    exp_preds = np.exp(preds)\n",
        "    preds = exp_preds / np.sum(exp_preds)\n",
        "\n",
        "    return heapq.nlargest(top_n, range(len(preds)), preds.take)"
      ],
      "metadata": {
        "id": "km95uof-vedC"
      },
      "execution_count": null,
      "outputs": []
    },
    {
      "cell_type": "code",
      "source": [
        "def predict_completion(text):\n",
        "    original_text = text\n",
        "    generated = text\n",
        "    completion = ''\n",
        "    while True:\n",
        "        x = prepare_input(text)\n",
        "        preds = model.predict(x, verbose=0)[0]\n",
        "        next_index = sample(preds, top_n=1)[0]\n",
        "        next_word = id2word[next_index]\n",
        "        text = text[1:] + next_word\n",
        "        completion += next_word\n",
        "\n",
        "        if len(original_text + completion) + 2 > len(original_text) and next_word == ' ':\n",
        "            return completion"
      ],
      "metadata": {
        "id": "ryZPiC-SviBI"
      },
      "execution_count": null,
      "outputs": []
    },
    {
      "cell_type": "markdown",
      "source": [
        "**Function to predict the next n most likely words given an input text**"
      ],
      "metadata": {
        "id": "ud2Ije5GXAeq"
      }
    },
    {
      "cell_type": "code",
      "source": [
        "def predict_next_word(text, n=3):\n",
        "    x = prepare_input(text)\n",
        "    preds = model.predict(x, verbose=0)[0]\n",
        "    next_indices = sample(preds, n)\n",
        "    return [id2word[idx] for idx in next_indices]"
      ],
      "metadata": {
        "id": "yPzFoE9Mvlgq"
      },
      "execution_count": null,
      "outputs": []
    },
    {
      "cell_type": "markdown",
      "source": [
        "**Test scenario to generate suggestions**"
      ],
      "metadata": {
        "id": "oikm5LBnXbC1"
      }
    },
    {
      "cell_type": "code",
      "source": [
        "# current model only accept input with 5 words\n",
        "input=\"I look forward to working\"\n",
        "print(predict_next_word(input, 5))\n",
        "\n",
        "# predicted sentence: \"I look forward to working with\""
      ],
      "metadata": {
        "colab": {
          "base_uri": "https://localhost:8080/"
        },
        "id": "2ST9N-wav5VW",
        "outputId": "ece289db-6ffc-4261-c60f-28aa3f2d0f4d"
      },
      "execution_count": null,
      "outputs": [
        {
          "output_type": "stream",
          "name": "stdout",
          "text": [
            "['with', 'the', 'to', 'on', 'in']\n"
          ]
        }
      ]
    },
    {
      "cell_type": "code",
      "source": [
        "input=\"I have been\"\n",
        "print(predict_next_word(input, 5))"
      ],
      "metadata": {
        "colab": {
          "base_uri": "https://localhost:8080/"
        },
        "id": "9xSZA1gvv7I6",
        "outputId": "9b67cc93-ff6c-4671-f6e7-de6eeca7a6ac"
      },
      "execution_count": null,
      "outputs": [
        {
          "output_type": "stream",
          "name": "stdout",
          "text": [
            "['I', 'you', 'of', 'at', 'to']\n"
          ]
        }
      ]
    }
  ]
}